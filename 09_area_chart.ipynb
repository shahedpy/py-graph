{
 "cells": [
  {
   "cell_type": "code",
   "execution_count": null,
   "id": "2c338d0e",
   "metadata": {},
   "outputs": [],
   "source": [
    "import matplotlib.pyplot as plt"
   ]
  },
  {
   "cell_type": "code",
   "execution_count": null,
   "id": "84d0d843",
   "metadata": {},
   "outputs": [],
   "source": [
    "x = [1, 2, 3, 4, 5]\n",
    "y1= [10, 15, 25, 30, 35]\n",
    "y2= [5, 10, 20, 25, 30]\n",
    "plt.fill_between(x, y1, y2, color='skyblue', alpha=0.4)\n",
    "plt.title('Area Chart')\n",
    "plt.xlabel('X-axis')\n",
    "plt.ylabel('Y-axis')\n",
    "plt.show()"
   ]
  }
 ],
 "metadata": {
  "language_info": {
   "name": "python"
  }
 },
 "nbformat": 4,
 "nbformat_minor": 5
}
